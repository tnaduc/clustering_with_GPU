{
 "cells": [
  {
   "cell_type": "markdown",
   "metadata": {},
   "source": [
    "# Clustering techniques with GPU accelaration\n"
   ]
  },
  {
   "cell_type": "code",
   "execution_count": 4,
   "metadata": {
    "collapsed": false
   },
   "outputs": [],
   "source": [
    "import math\n",
    "import numpy as np\n",
    "import itertools\n",
    "from matplotlib import pyplot as plt\n",
    "%matplotlib inline\n",
    "import tensorflow as tf\n",
    "from sklearn.cluster import KMeans, MeanShift\n",
    "from sklearn.metrics import confusion_matrix\n",
    "seed = 1988"
   ]
  },
  {
   "cell_type": "markdown",
   "metadata": {},
   "source": [
    "# Setup data"
   ]
  },
  {
   "cell_type": "code",
   "execution_count": 34,
   "metadata": {
    "collapsed": true
   },
   "outputs": [],
   "source": [
    "nb_clusters = 3\n",
    "nb_samples = 1000000"
   ]
  },
  {
   "cell_type": "code",
   "execution_count": 35,
   "metadata": {
    "collapsed": false
   },
   "outputs": [
    {
     "data": {
      "text/plain": [
       "array([[ 46.36234398,  66.51608642],\n",
       "       [ 28.83082239, -98.48807072],\n",
       "       [ 16.43652197,  40.40603025]])"
      ]
     },
     "execution_count": 35,
     "metadata": {},
     "output_type": "execute_result"
    }
   ],
   "source": [
    "true_centers = np.random.uniform (-100,100, (nb_clusters,2))\n",
    "true_centers"
   ]
  },
  {
   "cell_type": "code",
   "execution_count": 36,
   "metadata": {
    "collapsed": false
   },
   "outputs": [
    {
     "data": {
      "text/plain": [
       "[<matplotlib.lines.Line2D at 0x7f5f77fbc908>]"
      ]
     },
     "execution_count": 36,
     "metadata": {},
     "output_type": "execute_result"
    },
    {
     "data": {
      "image/png": "[encoded data removed]",
      "text/plain": [
       "<matplotlib.figure.Figure at 0x7f5f9dbb57b8>"
      ]
     },
     "metadata": {},
     "output_type": "display_data"
    }
   ],
   "source": [
    "plt.plot(true_centers[:,0],true_centers[:,1], 'o')"
   ]
  },
  {
   "cell_type": "code",
   "execution_count": 15,
   "metadata": {
    "collapsed": false
   },
   "outputs": [
    {
     "data": {
      "text/plain": [
       "(30000, 2)"
      ]
     },
     "execution_count": 15,
     "metadata": {},
     "output_type": "execute_result"
    }
   ],
   "source": [
    "cov = np.diag([8.0,8.0])\n",
    "samples =  np.concatenate([np.random.multivariate_normal(true_centers[i], cov, nb_samples) \n",
    "                              for i in range(nb_clusters)])\n",
    "samples.shape"
   ]
  },
  {
   "cell_type": "code",
   "execution_count": 16,
   "metadata": {
    "collapsed": false
   },
   "outputs": [],
   "source": [
    "true_labels = np.concatenate([np.ones(nb_samples)*i for i in range(nb_clusters)]).reshape((1,nb_samples*nb_clusters))"
   ]
  },
  {
   "cell_type": "code",
   "execution_count": 37,
   "metadata": {
    "collapsed": false
   },
   "outputs": [],
   "source": [
    "def plot_clusters(centers, samples, labels, size = 3):\n",
    "    plt.figure(figsize=(12,8))\n",
    "    plt.scatter(samples[:,0],samples[:,1], c=labels, s= size)\n",
    "    nb_samples_per_center = int(len(samples)/len(centers))\n",
    "    for i, center in enumerate(centers):\n",
    "        samples_in_one_center = samples[i*nb_samples_per_center:(i+1)*nb_samples_per_center]\n",
    "        plt.plot(center[0],center[1], markersize =1, marker ='x', color ='k', mew =25)\n",
    "        plt.plot(center[0],center[1], markersize =1, marker ='o', color ='k', mew =25)\n",
    "        "
   ]
  },
  {
   "cell_type": "code",
   "execution_count": 39,
   "metadata": {
    "collapsed": false
   },
   "outputs": [
    {
     "data": {
      "image/png": "[encoded data removed]",
      "text/plain": [
       "<matplotlib.figure.Figure at 0x7f5f77ee84e0>"
      ]
     },
     "metadata": {},
     "output_type": "display_data"
    }
   ],
   "source": [
    "#labels = true_labels.astype(np.float)\n",
    "plot_clusters(true_centers, samples, true_labels, 3)"
   ]
  },
  {
   "cell_type": "markdown",
   "metadata": {},
   "source": [
    "# k-mean\n",
    "## CPU implementation\n"
   ]
  },
  {
   "cell_type": "code",
   "execution_count": 19,
   "metadata": {
    "collapsed": true
   },
   "outputs": [],
   "source": [
    "def random_initialize_centroids(data, nb_centroids):\n",
    "    samples = np.copy(data)\n",
    "    np.random.shuffle(samples)\n",
    "    return samples[:nb_centroids]"
   ]
  },
  {
   "cell_type": "code",
   "execution_count": 20,
   "metadata": {
    "collapsed": true
   },
   "outputs": [],
   "source": [
    "def initialize_centroids(data, nb_centroids):\n",
    "    random_centroid = random_initialize_centroids(data,1)\n",
    "    centroids = []\n",
    "    for i in range(nb_centroids):\n",
    "        distances = np.sqrt(((data - np.expand_dims(random_centroid,1))**2).sum(axis=2)).sum(axis =0)\n",
    "        max_dist_index = np.argmax(distances, axis =0)\n",
    "        max_dist_sample = data[max_dist_index]\n",
    "        centroids.append(max_dist_sample)\n",
    "        random_centroid = np.stack(max_dist_sample).squeeze()\n",
    "    return random_centroid    "
   ]
  },
  {
   "cell_type": "code",
   "execution_count": 21,
   "metadata": {
    "collapsed": true
   },
   "outputs": [],
   "source": [
    "def nearest_centroid(data, centroids):\n",
    "    distances = np.sqrt(((data - np.expand_dims(centroids,1))**2).sum(axis=2))\n",
    "    labels = np.argmin(distances, axis = 0)\n",
    "    return labels"
   ]
  },
  {
   "cell_type": "code",
   "execution_count": 22,
   "metadata": {
    "collapsed": true
   },
   "outputs": [],
   "source": [
    "def move_to_new_centroids(data, labels, centroids):\n",
    "    unique_labels = range(centroids.shape[0])\n",
    "    new_centroids = np.array([data[labels ==label].mean(axis=0) for label in unique_labels])\n",
    "    return  new_centroids   "
   ]
  },
  {
   "cell_type": "code",
   "execution_count": 23,
   "metadata": {
    "collapsed": false
   },
   "outputs": [],
   "source": [
    "def k_means(data, nb_centroids, iteration = 1000):\n",
    "    #centroids = initialize_centroids(data, nb_centroids)\n",
    "    centroids = random_initialize_centroids(data, nb_centroids)\n",
    "    for i in range(iteration):\n",
    "        labels = nearest_centroid(data, centroids)\n",
    "        new_centroids = move_to_new_centroids(data, labels, centroids)\n",
    "        centroids = new_centroids\n",
    "    return centroids, labels    "
   ]
  },
  {
   "cell_type": "code",
   "execution_count": 33,
   "metadata": {
    "collapsed": false
   },
   "outputs": [
    {
     "name": "stdout",
     "output_type": "stream",
     "text": [
      "CPU times: user 4.45 s, sys: 48 ms, total: 4.5 s\n",
      "Wall time: 5.7 s\n"
     ]
    }
   ],
   "source": [
    "% time est_centroids, est_labels = k_means(samples, 3,1000) # estimated centroids and labels"
   ]
  },
  {
   "cell_type": "code",
   "execution_count": null,
   "metadata": {
    "collapsed": false,
    "scrolled": true
   },
   "outputs": [],
   "source": [
    "plot_clusters(est_centroids, samples, est_labels)"
   ]
  },
  {
   "cell_type": "markdown",
   "metadata": {},
   "source": [
    "## GPU implementation"
   ]
  },
  {
   "cell_type": "code",
   "execution_count": 26,
   "metadata": {
    "collapsed": true
   },
   "outputs": [],
   "source": [
    "def tf_random_initialization(data, nb_centroids):\n",
    "    samples = tf.stack(data)  # convert ndarray in Numpy to tensor in Tensorlow\n",
    "    nb_samples = tf.shape(data)[0]\n",
    "    random_indices = tf.random_shuffle(tf.range(0,nb_samples))[:nb_centroids]\n",
    "    random_centroids = tf.gather(samples, random_indices)\n",
    "    return random_centroids"
   ]
  },
  {
   "cell_type": "code",
   "execution_count": 27,
   "metadata": {
    "collapsed": true
   },
   "outputs": [],
   "source": [
    "def tf_nearest_centroids_labels(data, centroids):\n",
    "    squared_differences = tf.squared_difference(tf.expand_dims(data,0),tf.expand_dims(centroids,1))\n",
    "    distances = tf.reduce_sum(squared_differences, axis = 2)\n",
    "    labels = tf.argmin(distances, axis = 0)\n",
    "    return labels"
   ]
  },
  {
   "cell_type": "code",
   "execution_count": 28,
   "metadata": {
    "collapsed": false
   },
   "outputs": [],
   "source": [
    "def tf_move_to_new_centroids(data, labels, nb_centroids):\n",
    "    samples = tf.stack(data)\n",
    "    nearest_labels = tf.to_int32(labels)\n",
    "    clusters = tf.dynamic_partition(samples, nearest_labels, nb_centroids)    \n",
    "    new_centroids = tf.concat([tf.expand_dims(tf.reduce_mean(cluster, 0),0) for cluster in clusters],0)\n",
    "    return new_centroids"
   ]
  },
  {
   "cell_type": "code",
   "execution_count": 30,
   "metadata": {
    "collapsed": true
   },
   "outputs": [],
   "source": [
    "def tf_k_means(data, nb_centroids, iteration = 1000):\n",
    "    tf.global_variables_initializer().run()\n",
    "    initial_centroids =  tf_random_initialization(data, nb_centroids).eval()\n",
    "    current_centroids\n",
    "    \n",
    "    tf.global_variables_initializer().run()\n",
    "    for i in range(iteration):\n",
    "        nearest_centroids_labels = tf_nearest_centroids_labels(data, initial_centroids)\n",
    "        initial_centroids = tf_move_to_new_centroids(data, nearest_centroids_labels , nb_centroids).eval()\n",
    "\n",
    "    return initial_centroids, nearest_centroids_labels"
   ]
  },
  {
   "cell_type": "code",
   "execution_count": 32,
   "metadata": {
    "collapsed": false
   },
   "outputs": [
    {
     "name": "stdout",
     "output_type": "stream",
     "text": [
      "CPU times: user 10min 17s, sys: 3.84 s, total: 10min 21s\n",
      "Wall time: 12min 10s\n"
     ]
    }
   ],
   "source": [
    "%time with tf.Session().as_default(): est_cent, est_labs = tf_k_means(samples, nb_centroids = 3,iteration =1000)"
   ]
  },
  {
   "cell_type": "code",
   "execution_count": 36,
   "metadata": {
    "collapsed": false
   },
   "outputs": [
    {
     "data": {
      "image/png": "[encoded data removed]",
      "text/plain": [
       "<matplotlib.figure.Figure at 0x7fd38709aac8>"
      ]
     },
     "metadata": {},
     "output_type": "display_data"
    }
   ],
   "source": [
    "plot_clusters(est_cent, samples, est_labs)"
   ]
  },
  {
   "cell_type": "code",
   "execution_count": 336,
   "metadata": {
    "collapsed": true
   },
   "outputs": [],
   "source": [
    "tf.global_variables_initializer().run()"
   ]
  },
  {
   "cell_type": "code",
   "execution_count": 360,
   "metadata": {
    "collapsed": false
   },
   "outputs": [
    {
     "data": {
      "text/plain": [
       "<tf.Tensor 'Gather_4:0' shape=(?, 2) dtype=float64>"
      ]
     },
     "execution_count": 360,
     "metadata": {},
     "output_type": "execute_result"
    }
   ],
   "source": [
    "initial_centroids =  tf_random_initialization(samples, nb_centroids =3)\n",
    "initial_centroids"
   ]
  },
  {
   "cell_type": "code",
   "execution_count": 338,
   "metadata": {
    "collapsed": false
   },
   "outputs": [],
   "source": [
    "#current_centroids = tf.Variable(initial_centroids)"
   ]
  },
  {
   "cell_type": "code",
   "execution_count": 364,
   "metadata": {
    "collapsed": false
   },
   "outputs": [],
   "source": [
    "nearest_centroids_labels = tf_nearest_centroids_labels(samples,initial_centroids)"
   ]
  },
  {
   "cell_type": "code",
   "execution_count": 376,
   "metadata": {
    "collapsed": true
   },
   "outputs": [],
   "source": [
    "clusters = tf.dynamic_partition(samples, tf.to_int32(nearest_centroids_labels), 3)   "
   ]
  },
  {
   "cell_type": "code",
   "execution_count": 372,
   "metadata": {
    "collapsed": false
   },
   "outputs": [],
   "source": [
    "new_centroids = tf_move_to_new_centroids(samples,nearest_centroids_labels, 3)"
   ]
  },
  {
   "cell_type": "code",
   "execution_count": 384,
   "metadata": {
    "collapsed": true
   },
   "outputs": [],
   "source": [
    "new_centroids = tf.concat([tf.expand_dims(tf.reduce_mean(cluster, 0),0) for cluster in clusters],0)"
   ]
  },
  {
   "cell_type": "code",
   "execution_count": 341,
   "metadata": {
    "collapsed": true
   },
   "outputs": [],
   "source": [
    "Sess = tf.InteractiveSession()"
   ]
  },
  {
   "cell_type": "code",
   "execution_count": 361,
   "metadata": {
    "collapsed": true
   },
   "outputs": [],
   "source": [
    "sess = tf.Session()"
   ]
  },
  {
   "cell_type": "code",
   "execution_count": 385,
   "metadata": {
    "collapsed": false
   },
   "outputs": [
    {
     "data": {
      "text/plain": [
       "(array([[-11.14627628, -13.3117413 ],\n",
       "        [-21.53677794,  37.50075267],\n",
       "        [-34.44825602, -34.62620901]]),)"
      ]
     },
     "execution_count": 385,
     "metadata": {},
     "output_type": "execute_result"
    }
   ],
   "source": [
    "a = sess.run(new_centroids); a, #en(a)"
   ]
  },
  {
   "cell_type": "code",
   "execution_count": null,
   "metadata": {
    "collapsed": true
   },
   "outputs": [],
   "source": []
  },
  {
   "cell_type": "code",
   "execution_count": null,
   "metadata": {
    "collapsed": true
   },
   "outputs": [],
   "source": [
    "def k_means(data, nb_centroids, iteration = 1000):\n",
    "    centroids = random_initialize_centroids(data, nb_centroids)\n",
    "    for i in range(iteration):\n",
    "        labels = nearest_centroid(data, centroids)\n",
    "        new_centroids = move_to_new_centroids(data, labels, centroids)\n",
    "        centroids = new_centroids\n",
    "    return centroids, labels  "
   ]
  },
  {
   "cell_type": "code",
   "execution_count": 212,
   "metadata": {
    "collapsed": true
   },
   "outputs": [],
   "source": []
  },
  {
   "cell_type": "code",
   "execution_count": 309,
   "metadata": {
    "collapsed": false
   },
   "outputs": [],
   "source": [
    "tf.reset_default_graph()"
   ]
  },
  {
   "cell_type": "code",
   "execution_count": 310,
   "metadata": {
    "collapsed": false
   },
   "outputs": [],
   "source": [
    "Sess = tf.InteractiveSession()"
   ]
  },
  {
   "cell_type": "code",
   "execution_count": null,
   "metadata": {
    "collapsed": true
   },
   "outputs": [],
   "source": []
  },
  {
   "cell_type": "code",
   "execution_count": 311,
   "metadata": {
    "collapsed": false
   },
   "outputs": [],
   "source": [
    "a = tf.constant(2, name = 'a')"
   ]
  },
  {
   "cell_type": "code",
   "execution_count": 312,
   "metadata": {
    "collapsed": false
   },
   "outputs": [
    {
     "data": {
      "text/plain": [
       "<tf.Tensor 'range:0' shape=(2,) dtype=int32>"
      ]
     },
     "execution_count": 312,
     "metadata": {},
     "output_type": "execute_result"
    }
   ],
   "source": [
    "tf_seed =tf.range(1,3); tf_seeding"
   ]
  },
  {
   "cell_type": "code",
   "execution_count": 313,
   "metadata": {
    "collapsed": false
   },
   "outputs": [],
   "source": [
    "tf_data = tf.concat([[tf_seed*(-1)],[tf_seed], [tf_seed*2], [tf_seed*3], [tf_seed*4]], axis =0)"
   ]
  },
  {
   "cell_type": "code",
   "execution_count": 314,
   "metadata": {
    "collapsed": false
   },
   "outputs": [],
   "source": [
    "sess = tf.Session()"
   ]
  },
  {
   "cell_type": "code",
   "execution_count": 315,
   "metadata": {
    "collapsed": false
   },
   "outputs": [
    {
     "data": {
      "text/plain": [
       "array([[-1, -2],\n",
       "       [ 1,  2],\n",
       "       [ 2,  4],\n",
       "       [ 3,  6],\n",
       "       [ 4,  8]], dtype=int32)"
      ]
     },
     "execution_count": 315,
     "metadata": {},
     "output_type": "execute_result"
    }
   ],
   "source": [
    "b = sess.run(tf_data); b"
   ]
  },
  {
   "cell_type": "code",
   "execution_count": 241,
   "metadata": {
    "collapsed": false
   },
   "outputs": [
    {
     "data": {
      "text/plain": [
       "array([1, 2], dtype=int32)"
      ]
     },
     "execution_count": 241,
     "metadata": {},
     "output_type": "execute_result"
    }
   ],
   "source": [
    "b"
   ]
  },
  {
   "cell_type": "code",
   "execution_count": null,
   "metadata": {
    "collapsed": true
   },
   "outputs": [],
   "source": []
  },
  {
   "cell_type": "code",
   "execution_count": null,
   "metadata": {
    "collapsed": true
   },
   "outputs": [],
   "source": []
  },
  {
   "cell_type": "code",
   "execution_count": null,
   "metadata": {
    "collapsed": true
   },
   "outputs": [],
   "source": []
  },
  {
   "cell_type": "code",
   "execution_count": null,
   "metadata": {
    "collapsed": true
   },
   "outputs": [],
   "source": []
  },
  {
   "cell_type": "markdown",
   "metadata": {},
   "source": [
    "# Broadcasting in Python"
   ]
  },
  {
   "cell_type": "code",
   "execution_count": 571,
   "metadata": {
    "collapsed": false
   },
   "outputs": [
    {
     "data": {
      "text/plain": [
       "(array([1, 2]), (2,))"
      ]
     },
     "execution_count": 571,
     "metadata": {},
     "output_type": "execute_result"
    }
   ],
   "source": [
    "seeding =np.array([1,2]); seeding,seeding.shape"
   ]
  },
  {
   "cell_type": "code",
   "execution_count": 537,
   "metadata": {
    "collapsed": false
   },
   "outputs": [
    {
     "data": {
      "text/plain": [
       "(array([[-1, -2],\n",
       "        [ 0,  0],\n",
       "        [ 1,  2],\n",
       "        [ 2,  4],\n",
       "        [ 3,  6],\n",
       "        [ 4,  8]]), (6, 2))"
      ]
     },
     "execution_count": 537,
     "metadata": {},
     "output_type": "execute_result"
    }
   ],
   "source": [
    "data_samples = np.array([seeding*-1,seeding*0,seeding, seeding*2,seeding*3,seeding*4]); data_samples,data_samples.shape"
   ]
  },
  {
   "cell_type": "code",
   "execution_count": 538,
   "metadata": {
    "collapsed": false
   },
   "outputs": [
    {
     "data": {
      "text/plain": [
       "(array([[1, 2],\n",
       "        [1, 1]]), (2, 2))"
      ]
     },
     "execution_count": 538,
     "metadata": {},
     "output_type": "execute_result"
    }
   ],
   "source": [
    "mini_centroids =np.array([[1,2],[1,1]]); mini_centroids, mini_centroids.shape"
   ]
  },
  {
   "cell_type": "code",
   "execution_count": 539,
   "metadata": {
    "collapsed": false
   },
   "outputs": [
    {
     "data": {
      "text/plain": [
       "(array([[[1, 2]],\n",
       " \n",
       "        [[1, 1]]]), (2, 1, 2))"
      ]
     },
     "execution_count": 539,
     "metadata": {},
     "output_type": "execute_result"
    }
   ],
   "source": [
    "r= np.expand_dims(v2,1); r, r.shape"
   ]
  },
  {
   "cell_type": "code",
   "execution_count": 540,
   "metadata": {
    "collapsed": false
   },
   "outputs": [
    {
     "data": {
      "text/plain": [
       "array([[[-2, -4],\n",
       "        [-1, -2],\n",
       "        [ 0,  0],\n",
       "        [ 1,  2],\n",
       "        [ 2,  4],\n",
       "        [ 3,  6]],\n",
       "\n",
       "       [[-2, -3],\n",
       "        [-1, -1],\n",
       "        [ 0,  1],\n",
       "        [ 1,  3],\n",
       "        [ 2,  5],\n",
       "        [ 3,  7]]])"
      ]
     },
     "execution_count": 540,
     "metadata": {},
     "output_type": "execute_result"
    }
   ],
   "source": [
    "a = data_samples-r;a"
   ]
  },
  {
   "cell_type": "code",
   "execution_count": 541,
   "metadata": {
    "collapsed": false
   },
   "outputs": [
    {
     "data": {
      "text/plain": [
       "array([[[-2, -4],\n",
       "        [-1, -2],\n",
       "        [ 0,  0],\n",
       "        [ 1,  2],\n",
       "        [ 2,  4],\n",
       "        [ 3,  6]],\n",
       "\n",
       "       [[-2, -3],\n",
       "        [-1, -1],\n",
       "        [ 0,  1],\n",
       "        [ 1,  3],\n",
       "        [ 2,  5],\n",
       "        [ 3,  7]]])"
      ]
     },
     "execution_count": 541,
     "metadata": {},
     "output_type": "execute_result"
    }
   ],
   "source": [
    "b= data_samples-mini_centroids[:,np.newaxis];b"
   ]
  },
  {
   "cell_type": "code",
   "execution_count": 542,
   "metadata": {
    "collapsed": false
   },
   "outputs": [
    {
     "data": {
      "text/plain": [
       "(array([[ 4.47213595,  2.23606798,  0.        ,  2.23606798,  4.47213595,\n",
       "          6.70820393],\n",
       "        [ 3.60555128,  1.41421356,  1.        ,  3.16227766,  5.38516481,\n",
       "          7.61577311]]), (2, 6))"
      ]
     },
     "execution_count": 542,
     "metadata": {},
     "output_type": "execute_result"
    }
   ],
   "source": [
    "distances = np.sqrt((b**2).sum(axis =2).astype(np.float)); distances, distances.shape"
   ]
  },
  {
   "cell_type": "code",
   "execution_count": 543,
   "metadata": {
    "collapsed": false
   },
   "outputs": [
    {
     "data": {
      "text/plain": [
       "(array([[ 4.47213595,  2.23606798,  0.        ,  2.23606798,  4.47213595,\n",
       "          6.70820393],\n",
       "        [ 3.60555128,  1.41421356,  1.        ,  3.16227766,  5.38516481,\n",
       "          7.61577311]]), (2, 6))"
      ]
     },
     "execution_count": 543,
     "metadata": {},
     "output_type": "execute_result"
    }
   ],
   "source": [
    "distances_1 = np.sqrt((a**2).sum(axis =2).astype(np.float)); distances_1, distances_1.shape"
   ]
  },
  {
   "cell_type": "code",
   "execution_count": 608,
   "metadata": {
    "collapsed": false
   },
   "outputs": [
    {
     "data": {
      "text/plain": [
       "array([1, 1, 0, 0, 0, 0])"
      ]
     },
     "execution_count": 608,
     "metadata": {},
     "output_type": "execute_result"
    }
   ],
   "source": [
    "mini_labels = np.argmin(distances_1, axis =0); mini_labels"
   ]
  },
  {
   "cell_type": "code",
   "execution_count": 545,
   "metadata": {
    "collapsed": false
   },
   "outputs": [
    {
     "data": {
      "text/plain": [
       "range(0, 2)"
      ]
     },
     "execution_count": 545,
     "metadata": {},
     "output_type": "execute_result"
    }
   ],
   "source": [
    "labels = range(mini_centroids.shape[0]); labels"
   ]
  },
  {
   "cell_type": "code",
   "execution_count": 553,
   "metadata": {
    "collapsed": false
   },
   "outputs": [
    {
     "data": {
      "text/plain": [
       "(array([[1, 2],\n",
       "        [2, 4],\n",
       "        [3, 6],\n",
       "        [4, 8]]), array([[-1, -2],\n",
       "        [ 0,  0]]))"
      ]
     },
     "execution_count": 553,
     "metadata": {},
     "output_type": "execute_result"
    }
   ],
   "source": [
    "data_samples[mini_labels==0], data_samples[mini_labels==1]"
   ]
  },
  {
   "cell_type": "code",
   "execution_count": 547,
   "metadata": {
    "collapsed": false
   },
   "outputs": [
    {
     "data": {
      "text/plain": [
       "array([ 2.5,  5. ])"
      ]
     },
     "execution_count": 547,
     "metadata": {},
     "output_type": "execute_result"
    }
   ],
   "source": [
    "data_samples[mini_labels==0].mean(axis=0)"
   ]
  },
  {
   "cell_type": "code",
   "execution_count": 550,
   "metadata": {
    "collapsed": false
   },
   "outputs": [
    {
     "data": {
      "text/plain": [
       "array([[ 2.5,  5. ],\n",
       "       [-0.5, -1. ]])"
      ]
     },
     "execution_count": 550,
     "metadata": {},
     "output_type": "execute_result"
    }
   ],
   "source": [
    "new_centroids(data_samples, mini_labels, mini_centroids )"
   ]
  },
  {
   "cell_type": "code",
   "execution_count": null,
   "metadata": {
    "collapsed": true
   },
   "outputs": [],
   "source": [
    "new_mini_centroids = np.copy(mini_centroids)\n",
    "for i in labels:\n",
    "    new_mini_centroids[i,:] = "
   ]
  },
  {
   "cell_type": "code",
   "execution_count": 605,
   "metadata": {
    "collapsed": false
   },
   "outputs": [
    {
     "data": {
      "text/plain": [
       "array([ 3.60555128,  1.41421356,  1.        ,  3.16227766,  5.38516481,\n",
       "        7.61577311])"
      ]
     },
     "execution_count": 605,
     "metadata": {},
     "output_type": "execute_result"
    }
   ],
   "source": [
    "distances[1]"
   ]
  },
  {
   "cell_type": "code",
   "execution_count": 607,
   "metadata": {
    "collapsed": false
   },
   "outputs": [
    {
     "data": {
      "text/plain": [
       "2"
      ]
     },
     "execution_count": 607,
     "metadata": {},
     "output_type": "execute_result"
    }
   ],
   "source": [
    "np.argmin(distances[1], axis =0)"
   ]
  },
  {
   "cell_type": "code",
   "execution_count": null,
   "metadata": {
    "collapsed": true
   },
   "outputs": [],
   "source": []
  },
  {
   "cell_type": "markdown",
   "metadata": {},
   "source": [
    "## kmeans skilearn"
   ]
  },
  {
   "cell_type": "code",
   "execution_count": 408,
   "metadata": {
    "collapsed": true
   },
   "outputs": [],
   "source": [
    "kmeans = KMeans(n_clusters = nb_clusters).fit(samples)"
   ]
  },
  {
   "cell_type": "code",
   "execution_count": 234,
   "metadata": {
    "collapsed": false
   },
   "outputs": [],
   "source": [
    "km_est_centers = kmeans.cluster_centers_"
   ]
  },
  {
   "cell_type": "code",
   "execution_count": 235,
   "metadata": {
    "collapsed": false
   },
   "outputs": [],
   "source": [
    "est_labels = kmeans.labels_"
   ]
  },
  {
   "cell_type": "code",
   "execution_count": 236,
   "metadata": {
    "collapsed": false
   },
   "outputs": [
    {
     "data": {
      "image/png": "[encoded data removed]",
      "text/plain": [
       "<matplotlib.figure.Figure at 0x7f0e6ad65e80>"
      ]
     },
     "metadata": {},
     "output_type": "display_data"
    }
   ],
   "source": [
    "plot_clusters(km_est_centers, samples, est_labels)"
   ]
  },
  {
   "cell_type": "markdown",
   "metadata": {},
   "source": [
    "# Mean shift\n",
    "\n",
    "## CPU implementation"
   ]
  },
  {
   "cell_type": "code",
   "execution_count": 274,
   "metadata": {
    "collapsed": false
   },
   "outputs": [],
   "source": [
    "# Gaussian kernel\n",
    "def gau_kernel(mean, sdt):\n",
    "    kernel = 1/math.sqrt(2*math.pi*sdt**2)*np.exp(-1/2*(mean-sdt)**2/sdt**2) \n",
    "    return kernel"
   ]
  },
  {
   "cell_type": "code",
   "execution_count": 336,
   "metadata": {
    "collapsed": false
   },
   "outputs": [],
   "source": [
    "def meanshift(samples, bandwidth, iteration):\n",
    "    data = np.copy(samples)\n",
    "    for it in range(iteration):\n",
    "        for i, data_point in enumerate(data):\n",
    "            distance = np.sqrt(((data_point - data)**2).sum(axis =1))# Get distances from one points to all points\n",
    "            weight = gau_kernel(distance, bandwidth) # Get corresponding weights for all distances\n",
    "            shift =  np.expand_dims(weight,1)*data # Shift all remaining points according to weights\n",
    "            mean =  shift.sum(axis =0)/weight.sum() # Get the mean for all shifted points \n",
    "            data[i] = mean # Assign the current point to the mean\n",
    "    return data    "
   ]
  },
  {
   "cell_type": "code",
   "execution_count": 361,
   "metadata": {
    "collapsed": false,
    "scrolled": true
   },
   "outputs": [
    {
     "name": "stdout",
     "output_type": "stream",
     "text": [
      "CPU times: user 4.23 s, sys: 4 ms, total: 4.24 s\n",
      "Wall time: 4.95 s\n"
     ]
    }
   ],
   "source": [
    "%time X = meanshift(samples, 3, 10)"
   ]
  },
  {
   "cell_type": "code",
   "execution_count": 362,
   "metadata": {
    "collapsed": false
   },
   "outputs": [
    {
     "data": {
      "image/png": "[encoded data removed]",
      "text/plain": [
       "<matplotlib.figure.Figure at 0x7f0e695af9b0>"
      ]
     },
     "metadata": {},
     "output_type": "display_data"
    }
   ],
   "source": [
    "plot_clusters(true_centers, X, true_labels, 100)"
   ]
  },
  {
   "cell_type": "code",
   "execution_count": null,
   "metadata": {
    "collapsed": true
   },
   "outputs": [],
   "source": []
  }
 ],
 "metadata": {
  "kernelspec": {
   "display_name": "Python 3",
   "language": "python",
   "name": "python3"
  },
  "language_info": {
   "codemirror_mode": {
    "name": "ipython",
    "version": 3
   },
   "file_extension": ".py",
   "mimetype": "text/x-python",
   "name": "python",
   "nbconvert_exporter": "python",
   "pygments_lexer": "ipython3",
   "version": "3.5.2"
  }
 },
 "nbformat": 4,
 "nbformat_minor": 2
}
